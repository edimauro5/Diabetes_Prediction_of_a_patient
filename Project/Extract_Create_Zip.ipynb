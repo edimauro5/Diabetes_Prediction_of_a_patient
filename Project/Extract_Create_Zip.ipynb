{
 "cells": [
  {
   "cell_type": "code",
   "execution_count": 1,
   "metadata": {},
   "outputs": [
    {
     "name": "stdout",
     "output_type": "stream",
     "text": [
      "pipeline.zip\n"
     ]
    }
   ],
   "source": [
    "# Extract all zip files\n",
    "import zipfile as zf\n",
    "import os\n",
    "for file in os.scandir('.'):\n",
    "    if file.is_file() and file.name[:1] != '.' and file.name[-4:] == '.zip':\n",
    "        print(file.name)\n",
    "        zipped = zf.ZipFile(file.name, 'r')\n",
    "        zipped.extractall(file.name[:-4])\n",
    "        zipped.close()"
   ]
  },
  {
   "cell_type": "code",
   "execution_count": 3,
   "metadata": {},
   "outputs": [
    {
     "name": "stdout",
     "output_type": "stream",
     "text": [
      "pipeline\n"
     ]
    }
   ],
   "source": [
    "# Create zip files of all folders\n",
    "import shutil\n",
    "import os\n",
    "for folder in os.scandir('.'):\n",
    "    if folder.is_dir() and folder.name[:1] != '.':\n",
    "        print(folder.name)\n",
    "        shutil.make_archive(folder.name, 'zip', folder.name)"
   ]
  },
  {
   "cell_type": "code",
   "execution_count": null,
   "metadata": {},
   "outputs": [],
   "source": []
  }
 ],
 "metadata": {
  "kernelspec": {
   "display_name": "Python 3 (ipykernel)",
   "language": "python",
   "name": "python3"
  },
  "kubeflow_notebook": {
   "autosnapshot": true,
   "deploy_config": {},
   "docker_image": "gcr.io/arrikto/jupyter-kale-py38@sha256:2e1ce3427b780c0c78e7cfec527ee10c391092fdc4a8344cd76f8b83c61c5234",
   "experiment_name": "",
   "katib_metadata": {
    "algorithm": {
     "algorithmName": "grid"
    },
    "maxFailedTrialCount": 3,
    "maxTrialCount": 12,
    "objective": {
     "objectiveMetricName": "",
     "type": "minimize"
    },
    "parallelTrialCount": 3,
    "parameters": []
   },
   "katib_run": false,
   "pipeline_description": "",
   "pipeline_name": "",
   "snapshot_volumes": true,
   "volume_access_mode": "rwm",
   "volumes": [
    {
     "annotations": [],
     "mount_point": "/home/jovyan",
     "name": "diabetes-group06-workspace-4jnrx",
     "size": 10,
     "size_type": "Gi",
     "snapshot": false,
     "type": "clone"
    }
   ]
  },
  "language_info": {
   "codemirror_mode": {
    "name": "ipython",
    "version": 3
   },
   "file_extension": ".py",
   "mimetype": "text/x-python",
   "name": "python",
   "nbconvert_exporter": "python",
   "pygments_lexer": "ipython3",
   "version": "3.11.0"
  }
 },
 "nbformat": 4,
 "nbformat_minor": 4
}
